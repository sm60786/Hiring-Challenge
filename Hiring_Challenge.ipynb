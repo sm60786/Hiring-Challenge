{
 "cells": [
  {
   "cell_type": "code",
   "execution_count": 1,
   "metadata": {},
   "outputs": [
    {
     "name": "stdout",
     "output_type": "stream",
     "text": [
      "E:\\Projects\\Hiring Challenges Project & Data Understanding\n"
     ]
    }
   ],
   "source": [
    "import numpy as np\n",
    "import pandas as pd\n",
    "from collections import Counter\n",
    "import matplotlib.pyplot as plt\n",
    "import os\n",
    "os.chdir(\"E:\\Projects\\Hiring Challenges Project & Data Understanding\")\n",
    "print (os.getcwd())"
   ]
  },
  {
   "cell_type": "code",
   "execution_count": 2,
   "metadata": {},
   "outputs": [
    {
     "data": {
      "text/plain": [
       "(690, 16)"
      ]
     },
     "execution_count": 2,
     "metadata": {},
     "output_type": "execute_result"
    }
   ],
   "source": [
    "HC = pd.read_csv('Hiring_Challenge.csv')\n",
    "HC.shape"
   ]
  },
  {
   "cell_type": "code",
   "execution_count": 10,
   "metadata": {},
   "outputs": [
    {
     "data": {
      "text/html": [
       "<div>\n",
       "<style scoped>\n",
       "    .dataframe tbody tr th:only-of-type {\n",
       "        vertical-align: middle;\n",
       "    }\n",
       "\n",
       "    .dataframe tbody tr th {\n",
       "        vertical-align: top;\n",
       "    }\n",
       "\n",
       "    .dataframe thead th {\n",
       "        text-align: right;\n",
       "    }\n",
       "</style>\n",
       "<table border=\"1\" class=\"dataframe\">\n",
       "  <thead>\n",
       "    <tr style=\"text-align: right;\">\n",
       "      <th></th>\n",
       "      <th>C1</th>\n",
       "      <th>C2</th>\n",
       "      <th>C3</th>\n",
       "      <th>C4</th>\n",
       "      <th>C5</th>\n",
       "      <th>C6</th>\n",
       "      <th>C7</th>\n",
       "      <th>C8</th>\n",
       "      <th>C9</th>\n",
       "      <th>C10</th>\n",
       "      <th>C11</th>\n",
       "      <th>C12</th>\n",
       "      <th>C13</th>\n",
       "      <th>C14</th>\n",
       "      <th>C15</th>\n",
       "      <th>Hired</th>\n",
       "    </tr>\n",
       "  </thead>\n",
       "  <tbody>\n",
       "    <tr>\n",
       "      <td>0</td>\n",
       "      <td>b</td>\n",
       "      <td>30.83</td>\n",
       "      <td>0.000</td>\n",
       "      <td>u</td>\n",
       "      <td>g</td>\n",
       "      <td>w</td>\n",
       "      <td>v</td>\n",
       "      <td>1.25</td>\n",
       "      <td>t</td>\n",
       "      <td>t</td>\n",
       "      <td>1</td>\n",
       "      <td>f</td>\n",
       "      <td>g</td>\n",
       "      <td>202</td>\n",
       "      <td>0</td>\n",
       "      <td>1</td>\n",
       "    </tr>\n",
       "    <tr>\n",
       "      <td>1</td>\n",
       "      <td>a</td>\n",
       "      <td>58.67</td>\n",
       "      <td>4.460</td>\n",
       "      <td>u</td>\n",
       "      <td>g</td>\n",
       "      <td>q</td>\n",
       "      <td>h</td>\n",
       "      <td>3.04</td>\n",
       "      <td>t</td>\n",
       "      <td>t</td>\n",
       "      <td>6</td>\n",
       "      <td>f</td>\n",
       "      <td>g</td>\n",
       "      <td>43</td>\n",
       "      <td>560</td>\n",
       "      <td>1</td>\n",
       "    </tr>\n",
       "    <tr>\n",
       "      <td>2</td>\n",
       "      <td>a</td>\n",
       "      <td>24.5</td>\n",
       "      <td>0.500</td>\n",
       "      <td>u</td>\n",
       "      <td>g</td>\n",
       "      <td>q</td>\n",
       "      <td>h</td>\n",
       "      <td>1.50</td>\n",
       "      <td>t</td>\n",
       "      <td>f</td>\n",
       "      <td>0</td>\n",
       "      <td>f</td>\n",
       "      <td>g</td>\n",
       "      <td>280</td>\n",
       "      <td>824</td>\n",
       "      <td>1</td>\n",
       "    </tr>\n",
       "    <tr>\n",
       "      <td>3</td>\n",
       "      <td>b</td>\n",
       "      <td>27.83</td>\n",
       "      <td>1.540</td>\n",
       "      <td>u</td>\n",
       "      <td>g</td>\n",
       "      <td>w</td>\n",
       "      <td>v</td>\n",
       "      <td>3.75</td>\n",
       "      <td>t</td>\n",
       "      <td>t</td>\n",
       "      <td>5</td>\n",
       "      <td>t</td>\n",
       "      <td>g</td>\n",
       "      <td>100</td>\n",
       "      <td>3</td>\n",
       "      <td>1</td>\n",
       "    </tr>\n",
       "    <tr>\n",
       "      <td>4</td>\n",
       "      <td>b</td>\n",
       "      <td>20.17</td>\n",
       "      <td>5.625</td>\n",
       "      <td>u</td>\n",
       "      <td>g</td>\n",
       "      <td>w</td>\n",
       "      <td>v</td>\n",
       "      <td>1.71</td>\n",
       "      <td>t</td>\n",
       "      <td>f</td>\n",
       "      <td>0</td>\n",
       "      <td>f</td>\n",
       "      <td>s</td>\n",
       "      <td>120</td>\n",
       "      <td>0</td>\n",
       "      <td>1</td>\n",
       "    </tr>\n",
       "    <tr>\n",
       "      <td>...</td>\n",
       "      <td>...</td>\n",
       "      <td>...</td>\n",
       "      <td>...</td>\n",
       "      <td>...</td>\n",
       "      <td>...</td>\n",
       "      <td>...</td>\n",
       "      <td>...</td>\n",
       "      <td>...</td>\n",
       "      <td>...</td>\n",
       "      <td>...</td>\n",
       "      <td>...</td>\n",
       "      <td>...</td>\n",
       "      <td>...</td>\n",
       "      <td>...</td>\n",
       "      <td>...</td>\n",
       "      <td>...</td>\n",
       "    </tr>\n",
       "    <tr>\n",
       "      <td>685</td>\n",
       "      <td>b</td>\n",
       "      <td>21.08</td>\n",
       "      <td>10.085</td>\n",
       "      <td>y</td>\n",
       "      <td>p</td>\n",
       "      <td>e</td>\n",
       "      <td>h</td>\n",
       "      <td>1.25</td>\n",
       "      <td>f</td>\n",
       "      <td>f</td>\n",
       "      <td>0</td>\n",
       "      <td>f</td>\n",
       "      <td>g</td>\n",
       "      <td>260</td>\n",
       "      <td>0</td>\n",
       "      <td>0</td>\n",
       "    </tr>\n",
       "    <tr>\n",
       "      <td>686</td>\n",
       "      <td>a</td>\n",
       "      <td>22.67</td>\n",
       "      <td>0.750</td>\n",
       "      <td>u</td>\n",
       "      <td>g</td>\n",
       "      <td>c</td>\n",
       "      <td>v</td>\n",
       "      <td>2.00</td>\n",
       "      <td>f</td>\n",
       "      <td>t</td>\n",
       "      <td>2</td>\n",
       "      <td>t</td>\n",
       "      <td>g</td>\n",
       "      <td>200</td>\n",
       "      <td>394</td>\n",
       "      <td>0</td>\n",
       "    </tr>\n",
       "    <tr>\n",
       "      <td>687</td>\n",
       "      <td>a</td>\n",
       "      <td>25.25</td>\n",
       "      <td>13.500</td>\n",
       "      <td>y</td>\n",
       "      <td>p</td>\n",
       "      <td>ff</td>\n",
       "      <td>ff</td>\n",
       "      <td>2.00</td>\n",
       "      <td>f</td>\n",
       "      <td>t</td>\n",
       "      <td>1</td>\n",
       "      <td>t</td>\n",
       "      <td>g</td>\n",
       "      <td>200</td>\n",
       "      <td>1</td>\n",
       "      <td>0</td>\n",
       "    </tr>\n",
       "    <tr>\n",
       "      <td>688</td>\n",
       "      <td>b</td>\n",
       "      <td>17.92</td>\n",
       "      <td>0.205</td>\n",
       "      <td>u</td>\n",
       "      <td>g</td>\n",
       "      <td>aa</td>\n",
       "      <td>v</td>\n",
       "      <td>0.04</td>\n",
       "      <td>f</td>\n",
       "      <td>f</td>\n",
       "      <td>0</td>\n",
       "      <td>f</td>\n",
       "      <td>g</td>\n",
       "      <td>280</td>\n",
       "      <td>750</td>\n",
       "      <td>0</td>\n",
       "    </tr>\n",
       "    <tr>\n",
       "      <td>689</td>\n",
       "      <td>b</td>\n",
       "      <td>35</td>\n",
       "      <td>3.375</td>\n",
       "      <td>u</td>\n",
       "      <td>g</td>\n",
       "      <td>c</td>\n",
       "      <td>h</td>\n",
       "      <td>8.29</td>\n",
       "      <td>f</td>\n",
       "      <td>f</td>\n",
       "      <td>0</td>\n",
       "      <td>t</td>\n",
       "      <td>g</td>\n",
       "      <td>0</td>\n",
       "      <td>0</td>\n",
       "      <td>0</td>\n",
       "    </tr>\n",
       "  </tbody>\n",
       "</table>\n",
       "<p>690 rows × 16 columns</p>\n",
       "</div>"
      ],
      "text/plain": [
       "    C1     C2      C3 C4 C5  C6  C7    C8 C9 C10  C11 C12 C13  C14  C15  Hired\n",
       "0    b  30.83   0.000  u  g   w   v  1.25  t   t    1   f   g  202    0      1\n",
       "1    a  58.67   4.460  u  g   q   h  3.04  t   t    6   f   g   43  560      1\n",
       "2    a   24.5   0.500  u  g   q   h  1.50  t   f    0   f   g  280  824      1\n",
       "3    b  27.83   1.540  u  g   w   v  3.75  t   t    5   t   g  100    3      1\n",
       "4    b  20.17   5.625  u  g   w   v  1.71  t   f    0   f   s  120    0      1\n",
       "..  ..    ...     ... .. ..  ..  ..   ... ..  ..  ...  ..  ..  ...  ...    ...\n",
       "685  b  21.08  10.085  y  p   e   h  1.25  f   f    0   f   g  260    0      0\n",
       "686  a  22.67   0.750  u  g   c   v  2.00  f   t    2   t   g  200  394      0\n",
       "687  a  25.25  13.500  y  p  ff  ff  2.00  f   t    1   t   g  200    1      0\n",
       "688  b  17.92   0.205  u  g  aa   v  0.04  f   f    0   f   g  280  750      0\n",
       "689  b     35   3.375  u  g   c   h  8.29  f   f    0   t   g    0    0      0\n",
       "\n",
       "[690 rows x 16 columns]"
      ]
     },
     "execution_count": 10,
     "metadata": {},
     "output_type": "execute_result"
    }
   ],
   "source": [
    "HC"
   ]
  },
  {
   "cell_type": "code",
   "execution_count": 11,
   "metadata": {},
   "outputs": [
    {
     "data": {
      "text/html": [
       "<div>\n",
       "<style scoped>\n",
       "    .dataframe tbody tr th:only-of-type {\n",
       "        vertical-align: middle;\n",
       "    }\n",
       "\n",
       "    .dataframe tbody tr th {\n",
       "        vertical-align: top;\n",
       "    }\n",
       "\n",
       "    .dataframe thead th {\n",
       "        text-align: right;\n",
       "    }\n",
       "</style>\n",
       "<table border=\"1\" class=\"dataframe\">\n",
       "  <thead>\n",
       "    <tr style=\"text-align: right;\">\n",
       "      <th></th>\n",
       "      <th>C3</th>\n",
       "      <th>C8</th>\n",
       "      <th>C11</th>\n",
       "      <th>C15</th>\n",
       "      <th>Hired</th>\n",
       "    </tr>\n",
       "  </thead>\n",
       "  <tbody>\n",
       "    <tr>\n",
       "      <td>count</td>\n",
       "      <td>690.000000</td>\n",
       "      <td>690.000000</td>\n",
       "      <td>690.00000</td>\n",
       "      <td>690.000000</td>\n",
       "      <td>690.000000</td>\n",
       "    </tr>\n",
       "    <tr>\n",
       "      <td>mean</td>\n",
       "      <td>4.758725</td>\n",
       "      <td>2.223406</td>\n",
       "      <td>2.40000</td>\n",
       "      <td>1017.385507</td>\n",
       "      <td>0.444928</td>\n",
       "    </tr>\n",
       "    <tr>\n",
       "      <td>std</td>\n",
       "      <td>4.978163</td>\n",
       "      <td>3.346513</td>\n",
       "      <td>4.86294</td>\n",
       "      <td>5210.102598</td>\n",
       "      <td>0.497318</td>\n",
       "    </tr>\n",
       "    <tr>\n",
       "      <td>min</td>\n",
       "      <td>0.000000</td>\n",
       "      <td>0.000000</td>\n",
       "      <td>0.00000</td>\n",
       "      <td>0.000000</td>\n",
       "      <td>0.000000</td>\n",
       "    </tr>\n",
       "    <tr>\n",
       "      <td>25%</td>\n",
       "      <td>1.000000</td>\n",
       "      <td>0.165000</td>\n",
       "      <td>0.00000</td>\n",
       "      <td>0.000000</td>\n",
       "      <td>0.000000</td>\n",
       "    </tr>\n",
       "    <tr>\n",
       "      <td>50%</td>\n",
       "      <td>2.750000</td>\n",
       "      <td>1.000000</td>\n",
       "      <td>0.00000</td>\n",
       "      <td>5.000000</td>\n",
       "      <td>0.000000</td>\n",
       "    </tr>\n",
       "    <tr>\n",
       "      <td>75%</td>\n",
       "      <td>7.207500</td>\n",
       "      <td>2.625000</td>\n",
       "      <td>3.00000</td>\n",
       "      <td>395.500000</td>\n",
       "      <td>1.000000</td>\n",
       "    </tr>\n",
       "    <tr>\n",
       "      <td>max</td>\n",
       "      <td>28.000000</td>\n",
       "      <td>28.500000</td>\n",
       "      <td>67.00000</td>\n",
       "      <td>100000.000000</td>\n",
       "      <td>1.000000</td>\n",
       "    </tr>\n",
       "  </tbody>\n",
       "</table>\n",
       "</div>"
      ],
      "text/plain": [
       "               C3          C8        C11            C15       Hired\n",
       "count  690.000000  690.000000  690.00000     690.000000  690.000000\n",
       "mean     4.758725    2.223406    2.40000    1017.385507    0.444928\n",
       "std      4.978163    3.346513    4.86294    5210.102598    0.497318\n",
       "min      0.000000    0.000000    0.00000       0.000000    0.000000\n",
       "25%      1.000000    0.165000    0.00000       0.000000    0.000000\n",
       "50%      2.750000    1.000000    0.00000       5.000000    0.000000\n",
       "75%      7.207500    2.625000    3.00000     395.500000    1.000000\n",
       "max     28.000000   28.500000   67.00000  100000.000000    1.000000"
      ]
     },
     "execution_count": 11,
     "metadata": {},
     "output_type": "execute_result"
    }
   ],
   "source": [
    "HC.describe()"
   ]
  },
  {
   "cell_type": "code",
   "execution_count": 12,
   "metadata": {},
   "outputs": [
    {
     "data": {
      "text/plain": [
       "array(['C1', 'C2', 'C3', 'C4', 'C5', 'C6', 'C7', 'C8', 'C9', 'C10', 'C11',\n",
       "       'C12', 'C13', 'C14', 'C15', 'Hired'], dtype=object)"
      ]
     },
     "execution_count": 12,
     "metadata": {},
     "output_type": "execute_result"
    }
   ],
   "source": [
    "HC.columns.values"
   ]
  },
  {
   "cell_type": "code",
   "execution_count": 15,
   "metadata": {},
   "outputs": [
    {
     "data": {
      "text/plain": [
       "Index(['C1', 'C2', 'C4', 'C5', 'C6', 'C7', 'C9', 'C10', 'C12', 'C13', 'C14'], dtype='object')"
      ]
     },
     "execution_count": 15,
     "metadata": {},
     "output_type": "execute_result"
    }
   ],
   "source": [
    "#identify categorical variables dtype = object\n",
    "HC.dtypes[HC.dtypes=='O'].index"
   ]
  },
  {
   "cell_type": "code",
   "execution_count": 16,
   "metadata": {},
   "outputs": [
    {
     "data": {
      "text/plain": [
       "array(['C3', 'C8', 'C11', 'C15', 'Hired'], dtype=object)"
      ]
     },
     "execution_count": 16,
     "metadata": {},
     "output_type": "execute_result"
    }
   ],
   "source": [
    "#identify continous variables\n",
    "HC.dtypes[HC.dtypes!= 'O'].index.values"
   ]
  },
  {
   "cell_type": "code",
   "execution_count": 7,
   "metadata": {},
   "outputs": [
    {
     "data": {
      "text/plain": [
       "Hired    0\n",
       "C15      0\n",
       "C14      0\n",
       "C13      0\n",
       "C12      0\n",
       "C11      0\n",
       "C10      0\n",
       "C9       0\n",
       "C8       0\n",
       "C7       0\n",
       "C6       0\n",
       "C5       0\n",
       "C4       0\n",
       "C3       0\n",
       "C2       0\n",
       "C1       0\n",
       "dtype: int64"
      ]
     },
     "execution_count": 7,
     "metadata": {},
     "output_type": "execute_result"
    }
   ],
   "source": [
    "HC.isnull().sum().sort_values(ascending=False)"
   ]
  },
  {
   "cell_type": "code",
   "execution_count": 8,
   "metadata": {},
   "outputs": [
    {
     "data": {
      "text/plain": [
       "Counter({'b': 468, 'a': 210, '?': 12, 'return_counts': 1})"
      ]
     },
     "execution_count": 8,
     "metadata": {},
     "output_type": "execute_result"
    }
   ],
   "source": [
    "#unique values using counter as data contains missing values\n",
    "from collections import Counter\n",
    "Counter(HC.C1,return_counts=True)"
   ]
  },
  {
   "cell_type": "code",
   "execution_count": 9,
   "metadata": {},
   "outputs": [
    {
     "data": {
      "text/plain": [
       "(array([0, 1], dtype=int64), array([383, 307], dtype=int64))"
      ]
     },
     "execution_count": 9,
     "metadata": {},
     "output_type": "execute_result"
    }
   ],
   "source": [
    "np.unique(HC.Hired,return_counts=True)"
   ]
  },
  {
   "cell_type": "code",
   "execution_count": 10,
   "metadata": {},
   "outputs": [
    {
     "data": {
      "text/plain": [
       "0.5550724637681159"
      ]
     },
     "execution_count": 10,
     "metadata": {},
     "output_type": "execute_result"
    }
   ],
   "source": [
    "#% of 0's\n",
    "383/690"
   ]
  },
  {
   "cell_type": "code",
   "execution_count": 11,
   "metadata": {},
   "outputs": [
    {
     "data": {
      "text/plain": [
       "0.4449275362318841"
      ]
     },
     "execution_count": 11,
     "metadata": {},
     "output_type": "execute_result"
    }
   ],
   "source": [
    "#% of 1's\n",
    "307/690"
   ]
  },
  {
   "cell_type": "code",
   "execution_count": 12,
   "metadata": {},
   "outputs": [
    {
     "data": {
      "text/plain": [
       "Hired    0\n",
       "C15      0\n",
       "C14      0\n",
       "C13      0\n",
       "C12      0\n",
       "C11      0\n",
       "C10      0\n",
       "C9       0\n",
       "C8       0\n",
       "C7       0\n",
       "C6       0\n",
       "C5       0\n",
       "C4       0\n",
       "C3       0\n",
       "C2       0\n",
       "C1       0\n",
       "dtype: int64"
      ]
     },
     "execution_count": 12,
     "metadata": {},
     "output_type": "execute_result"
    }
   ],
   "source": [
    "HC.isnull().sum().sort_values(ascending=False)"
   ]
  },
  {
   "cell_type": "code",
   "execution_count": 13,
   "metadata": {},
   "outputs": [
    {
     "name": "stdout",
     "output_type": "stream",
     "text": [
      "Index(['number'], dtype='object')\n",
      "    number\n",
      "C1       0\n",
      "C2       0\n",
      "C3       0\n",
      "C4       0\n",
      "C5       0\n"
     ]
    }
   ],
   "source": [
    "null = pd.DataFrame(HC.isnull().sum(),columns=['number'])\n",
    "print(null.columns)\n",
    "print(null.head())"
   ]
  },
  {
   "cell_type": "code",
   "execution_count": 14,
   "metadata": {},
   "outputs": [
    {
     "name": "stdout",
     "output_type": "stream",
     "text": [
      "34.5\n",
      "(16,)\n",
      "C1       0\n",
      "C2       0\n",
      "C3       0\n",
      "C4       0\n",
      "C5       0\n",
      "C6       0\n",
      "C7       0\n",
      "C8       0\n",
      "C9       0\n",
      "C10      0\n",
      "C11      0\n",
      "C12      0\n",
      "C13      0\n",
      "C14      0\n",
      "C15      0\n",
      "Hired    0\n",
      "Name: number, dtype: int64\n"
     ]
    }
   ],
   "source": [
    "threshold = HC.shape[0] * 0.05\n",
    "print(threshold)\n",
    "nulla=null.number[null.number<=threshold]\n",
    "print(nulla.shape)\n",
    "print(nulla)"
   ]
  },
  {
   "cell_type": "code",
   "execution_count": 15,
   "metadata": {},
   "outputs": [
    {
     "data": {
      "text/plain": [
       "Counter({'b': 468, 'a': 210, '?': 12, 'return_counts': 1})"
      ]
     },
     "execution_count": 15,
     "metadata": {},
     "output_type": "execute_result"
    }
   ],
   "source": [
    "#unique values using counter as data contains missing values\n",
    "from collections import Counter\n",
    "Counter(HC.C1,return_counts=True)"
   ]
  },
  {
   "cell_type": "code",
   "execution_count": 16,
   "metadata": {},
   "outputs": [
    {
     "data": {
      "image/png": "[encoded data removed]",
      "text/plain": [
       "<Figure size 432x288 with 1 Axes>"
      ]
     },
     "metadata": {
      "needs_background": "light"
     },
     "output_type": "display_data"
    }
   ],
   "source": [
    "plt.hist(HC.C1)\n",
    "plt.show()"
   ]
  },
  {
   "cell_type": "code",
   "execution_count": 17,
   "metadata": {},
   "outputs": [
    {
     "data": {
      "text/plain": [
       "Counter({'30.83': 1,\n",
       "         '58.67': 1,\n",
       "         '24.5': 6,\n",
       "         '27.83': 5,\n",
       "         '20.17': 3,\n",
       "         '32.08': 2,\n",
       "         '33.17': 5,\n",
       "         '22.92': 4,\n",
       "         '54.42': 1,\n",
       "         '42.5': 1,\n",
       "         '22.08': 4,\n",
       "         '29.92': 1,\n",
       "         '38.25': 2,\n",
       "         '48.08': 2,\n",
       "         '45.83': 1,\n",
       "         '36.67': 3,\n",
       "         '28.25': 3,\n",
       "         '23.25': 5,\n",
       "         '21.83': 3,\n",
       "         '19.17': 6,\n",
       "         '25': 6,\n",
       "         '47.75': 1,\n",
       "         '27.42': 2,\n",
       "         '41.17': 4,\n",
       "         '15.83': 2,\n",
       "         '47': 1,\n",
       "         '56.58': 1,\n",
       "         '57.42': 1,\n",
       "         '42.08': 1,\n",
       "         '29.25': 2,\n",
       "         '42': 2,\n",
       "         '49.5': 1,\n",
       "         '36.75': 3,\n",
       "         '22.58': 3,\n",
       "         '27.25': 4,\n",
       "         '23': 5,\n",
       "         '27.75': 2,\n",
       "         '54.58': 1,\n",
       "         '34.17': 4,\n",
       "         '28.92': 2,\n",
       "         '29.67': 2,\n",
       "         '39.58': 2,\n",
       "         '56.42': 1,\n",
       "         '54.33': 1,\n",
       "         '41': 2,\n",
       "         '31.92': 2,\n",
       "         '41.5': 1,\n",
       "         '23.92': 3,\n",
       "         '25.75': 3,\n",
       "         '26': 1,\n",
       "         '37.42': 1,\n",
       "         '34.92': 2,\n",
       "         '34.25': 2,\n",
       "         '23.33': 2,\n",
       "         '23.17': 3,\n",
       "         '44.33': 2,\n",
       "         '35.17': 4,\n",
       "         '43.25': 2,\n",
       "         '56.75': 1,\n",
       "         '31.67': 2,\n",
       "         '23.42': 3,\n",
       "         '20.42': 7,\n",
       "         '26.67': 4,\n",
       "         '36': 1,\n",
       "         '25.5': 1,\n",
       "         '19.42': 3,\n",
       "         '32.33': 4,\n",
       "         '34.83': 3,\n",
       "         '38.58': 2,\n",
       "         '44.25': 2,\n",
       "         '44.83': 1,\n",
       "         '20.67': 6,\n",
       "         '34.08': 3,\n",
       "         '21.67': 2,\n",
       "         '21.5': 3,\n",
       "         '49.58': 1,\n",
       "         '27.67': 5,\n",
       "         '39.83': 1,\n",
       "         '?': 12,\n",
       "         '37.17': 1,\n",
       "         '25.67': 4,\n",
       "         '34': 3,\n",
       "         '49': 1,\n",
       "         '62.5': 1,\n",
       "         '31.42': 1,\n",
       "         '52.33': 1,\n",
       "         '28.75': 3,\n",
       "         '28.58': 4,\n",
       "         '22.5': 6,\n",
       "         '28.5': 2,\n",
       "         '37.5': 3,\n",
       "         '35.25': 2,\n",
       "         '18.67': 1,\n",
       "         '54.83': 1,\n",
       "         '40.92': 3,\n",
       "         '19.75': 1,\n",
       "         '29.17': 1,\n",
       "         '24.58': 4,\n",
       "         '33.75': 2,\n",
       "         '25.42': 2,\n",
       "         '37.75': 2,\n",
       "         '52.5': 2,\n",
       "         '57.83': 1,\n",
       "         '20.75': 4,\n",
       "         '39.92': 3,\n",
       "         '24.75': 4,\n",
       "         '44.17': 1,\n",
       "         '23.5': 4,\n",
       "         '47.67': 2,\n",
       "         '22.75': 3,\n",
       "         '34.42': 2,\n",
       "         '28.42': 1,\n",
       "         '67.75': 1,\n",
       "         '47.42': 2,\n",
       "         '36.25': 1,\n",
       "         '32.67': 2,\n",
       "         '48.58': 2,\n",
       "         '33.58': 3,\n",
       "         '18.83': 6,\n",
       "         '26.92': 2,\n",
       "         '31.25': 3,\n",
       "         '56.5': 1,\n",
       "         '43': 1,\n",
       "         '22.33': 1,\n",
       "         '32.83': 1,\n",
       "         '40.33': 2,\n",
       "         '30.5': 1,\n",
       "         '52.83': 1,\n",
       "         '46.67': 1,\n",
       "         '58.33': 1,\n",
       "         '37.33': 3,\n",
       "         '23.08': 5,\n",
       "         '32.75': 2,\n",
       "         '68.67': 1,\n",
       "         '28': 2,\n",
       "         '44': 1,\n",
       "         '25.08': 2,\n",
       "         '32': 2,\n",
       "         '60.58': 1,\n",
       "         '40.83': 2,\n",
       "         '19.33': 2,\n",
       "         '41.33': 2,\n",
       "         '56': 1,\n",
       "         '49.83': 1,\n",
       "         '22.67': 9,\n",
       "         '27': 2,\n",
       "         '26.08': 1,\n",
       "         '18.42': 2,\n",
       "         '21.25': 2,\n",
       "         '57.08': 2,\n",
       "         '22.42': 2,\n",
       "         '48.75': 2,\n",
       "         '40': 1,\n",
       "         '40.58': 3,\n",
       "         '28.67': 3,\n",
       "         '33.08': 2,\n",
       "         '21.33': 2,\n",
       "         '41.75': 1,\n",
       "         '34.5': 1,\n",
       "         '48.17': 3,\n",
       "         '27.58': 3,\n",
       "         '24.08': 3,\n",
       "         '24.83': 2,\n",
       "         '36.33': 2,\n",
       "         '35.42': 1,\n",
       "         '71.58': 1,\n",
       "         '39.5': 2,\n",
       "         '39.33': 1,\n",
       "         '24.33': 2,\n",
       "         '60.08': 1,\n",
       "         '55.92': 1,\n",
       "         '53.92': 1,\n",
       "         '18.92': 2,\n",
       "         '50.08': 1,\n",
       "         '65.42': 1,\n",
       "         '17.58': 2,\n",
       "         '18.08': 3,\n",
       "         '19.67': 3,\n",
       "         '25.17': 4,\n",
       "         '33.5': 1,\n",
       "         '58.42': 1,\n",
       "         '26.17': 4,\n",
       "         '42.83': 2,\n",
       "         '38.17': 1,\n",
       "         '20.5': 3,\n",
       "         '48.25': 1,\n",
       "         '28.33': 1,\n",
       "         '18.75': 1,\n",
       "         '18.5': 1,\n",
       "         '45': 2,\n",
       "         '40.25': 1,\n",
       "         '41.42': 1,\n",
       "         '17.83': 1,\n",
       "         '18.17': 3,\n",
       "         '20': 4,\n",
       "         '52.17': 1,\n",
       "         '50.75': 1,\n",
       "         '17.08': 3,\n",
       "         '18.33': 1,\n",
       "         '59.67': 1,\n",
       "         '18': 1,\n",
       "         '37.58': 1,\n",
       "         '30.67': 2,\n",
       "         '18.58': 3,\n",
       "         '16.25': 2,\n",
       "         '21.17': 3,\n",
       "         '17.67': 2,\n",
       "         '16.5': 2,\n",
       "         '29.5': 4,\n",
       "         '21.75': 2,\n",
       "         '18.25': 2,\n",
       "         '35.75': 2,\n",
       "         '16.08': 2,\n",
       "         '69.17': 1,\n",
       "         '32.92': 1,\n",
       "         '16.33': 3,\n",
       "         '22.17': 3,\n",
       "         '57.58': 1,\n",
       "         '15.92': 1,\n",
       "         '31.75': 1,\n",
       "         '19': 2,\n",
       "         '17.5': 1,\n",
       "         '33.67': 3,\n",
       "         '30.17': 3,\n",
       "         '33.25': 2,\n",
       "         '25.25': 3,\n",
       "         '34.75': 2,\n",
       "         '47.33': 1,\n",
       "         '39.08': 2,\n",
       "         '42.75': 2,\n",
       "         '38.92': 2,\n",
       "         '62.75': 1,\n",
       "         '32.25': 3,\n",
       "         '26.75': 3,\n",
       "         '63.33': 1,\n",
       "         '30.75': 1,\n",
       "         '16': 2,\n",
       "         '19.5': 3,\n",
       "         '32.42': 2,\n",
       "         '30.25': 1,\n",
       "         '26.83': 1,\n",
       "         '16.92': 2,\n",
       "         '24.42': 2,\n",
       "         '39.42': 1,\n",
       "         '23.58': 6,\n",
       "         '21.42': 1,\n",
       "         '33': 1,\n",
       "         '26.33': 1,\n",
       "         '26.25': 1,\n",
       "         '28.17': 3,\n",
       "         '20.83': 3,\n",
       "         '43.17': 2,\n",
       "         '56.83': 1,\n",
       "         '15.17': 1,\n",
       "         '29.83': 3,\n",
       "         '31': 1,\n",
       "         '51.92': 1,\n",
       "         '69.5': 1,\n",
       "         '19.58': 3,\n",
       "         '22.25': 3,\n",
       "         '38.42': 1,\n",
       "         '26.58': 1,\n",
       "         '35': 2,\n",
       "         '29.42': 2,\n",
       "         '49.17': 1,\n",
       "         '51.83': 2,\n",
       "         '58.58': 1,\n",
       "         '53.33': 1,\n",
       "         '27.17': 1,\n",
       "         '25.92': 1,\n",
       "         '30.58': 2,\n",
       "         '17.25': 1,\n",
       "         '27.33': 1,\n",
       "         '36.5': 1,\n",
       "         '29.75': 1,\n",
       "         '52.42': 1,\n",
       "         '36.17': 3,\n",
       "         '34.58': 1,\n",
       "         '21.92': 3,\n",
       "         '36.58': 1,\n",
       "         '31.08': 2,\n",
       "         '30.42': 1,\n",
       "         '21.08': 3,\n",
       "         '17.42': 1,\n",
       "         '39.17': 3,\n",
       "         '26.5': 1,\n",
       "         '17.33': 1,\n",
       "         '23.75': 3,\n",
       "         '34.67': 1,\n",
       "         '74.83': 1,\n",
       "         '45.33': 1,\n",
       "         '47.25': 1,\n",
       "         '24.17': 1,\n",
       "         '39.25': 1,\n",
       "         '39': 1,\n",
       "         '64.08': 2,\n",
       "         '31.33': 1,\n",
       "         '21': 2,\n",
       "         '13.75': 1,\n",
       "         '46': 1,\n",
       "         '20.25': 1,\n",
       "         '60.92': 1,\n",
       "         '30': 1,\n",
       "         '22.83': 2,\n",
       "         '45.17': 1,\n",
       "         '41.58': 2,\n",
       "         '55.75': 1,\n",
       "         '25.33': 2,\n",
       "         '31.83': 2,\n",
       "         '33.92': 1,\n",
       "         '24.92': 1,\n",
       "         '80.25': 1,\n",
       "         '30.08': 1,\n",
       "         '48.33': 1,\n",
       "         '76.75': 1,\n",
       "         '51.33': 1,\n",
       "         '41.92': 1,\n",
       "         '29.58': 3,\n",
       "         '32.17': 1,\n",
       "         '51.42': 1,\n",
       "         '42.17': 1,\n",
       "         '43.08': 1,\n",
       "         '59.5': 1,\n",
       "         '65.17': 1,\n",
       "         '20.33': 1,\n",
       "         '48.5': 1,\n",
       "         '28.08': 1,\n",
       "         '73.42': 1,\n",
       "         '51.58': 1,\n",
       "         '38.67': 1,\n",
       "         '46.08': 1,\n",
       "         '20.08': 3,\n",
       "         '42.25': 1,\n",
       "         '16.17': 1,\n",
       "         '47.83': 1,\n",
       "         '22': 2,\n",
       "         '38.33': 1,\n",
       "         '25.58': 2,\n",
       "         '21.58': 1,\n",
       "         '36.08': 1,\n",
       "         '38.75': 1,\n",
       "         '35.58': 1,\n",
       "         '31.58': 1,\n",
       "         '15.75': 1,\n",
       "         '17.92': 3,\n",
       "         '30.33': 1,\n",
       "         '47.17': 1,\n",
       "         '25.83': 1,\n",
       "         '50.25': 1,\n",
       "         '36.42': 1,\n",
       "         'return_counts': 1})"
      ]
     },
     "execution_count": 17,
     "metadata": {},
     "output_type": "execute_result"
    }
   ],
   "source": [
    "#unique values using counter as data contains missing values\n",
    "from collections import Counter\n",
    "Counter(HC.C2,return_counts=True)"
   ]
  },
  {
   "cell_type": "code",
   "execution_count": 18,
   "metadata": {},
   "outputs": [
    {
     "data": {
      "image/png": "[encoded data removed]",
      "text/plain": [
       "<Figure size 432x288 with 1 Axes>"
      ]
     },
     "metadata": {
      "needs_background": "light"
     },
     "output_type": "display_data"
    }
   ],
   "source": [
    "plt.hist(HC.C2)\n",
    "plt.show()"
   ]
  },
  {
   "cell_type": "code",
   "execution_count": 19,
   "metadata": {},
   "outputs": [
    {
     "data": {
      "text/plain": [
       "count    690.000000\n",
       "mean       4.758725\n",
       "std        4.978163\n",
       "min        0.000000\n",
       "25%        1.000000\n",
       "50%        2.750000\n",
       "75%        7.207500\n",
       "max       28.000000\n",
       "Name: C3, dtype: float64"
      ]
     },
     "execution_count": 19,
     "metadata": {},
     "output_type": "execute_result"
    }
   ],
   "source": [
    "HC.C3.describe()"
   ]
  },
  {
   "cell_type": "code",
   "execution_count": 20,
   "metadata": {},
   "outputs": [
    {
     "data": {
      "text/plain": [
       "Counter({0.0: 19,\n",
       "         4.46: 3,\n",
       "         0.5: 15,\n",
       "         1.54: 6,\n",
       "         5.625: 1,\n",
       "         4.0: 12,\n",
       "         1.04: 6,\n",
       "         11.585: 1,\n",
       "         4.915: 1,\n",
       "         0.83: 3,\n",
       "         1.835: 4,\n",
       "         6.0: 6,\n",
       "         6.04: 1,\n",
       "         10.5: 5,\n",
       "         4.415: 3,\n",
       "         0.875: 6,\n",
       "         5.875: 2,\n",
       "         0.25: 6,\n",
       "         8.585: 1,\n",
       "         11.25: 3,\n",
       "         1.0: 10,\n",
       "         8.0: 2,\n",
       "         14.5: 3,\n",
       "         6.5: 12,\n",
       "         0.585: 10,\n",
       "         13.0: 3,\n",
       "         18.5: 1,\n",
       "         8.5: 5,\n",
       "         14.79: 1,\n",
       "         9.79: 1,\n",
       "         7.585: 1,\n",
       "         5.125: 2,\n",
       "         10.75: 1,\n",
       "         1.5: 21,\n",
       "         1.585: 4,\n",
       "         11.75: 2,\n",
       "         9.415: 1,\n",
       "         9.17: 1,\n",
       "         15.0: 6,\n",
       "         1.415: 1,\n",
       "         13.915: 1,\n",
       "         28.0: 1,\n",
       "         6.75: 2,\n",
       "         2.04: 6,\n",
       "         0.665: 4,\n",
       "         2.5: 19,\n",
       "         3.0: 19,\n",
       "         11.625: 1,\n",
       "         4.5: 5,\n",
       "         12.25: 1,\n",
       "         16.165: 1,\n",
       "         0.79: 4,\n",
       "         0.835: 8,\n",
       "         4.25: 6,\n",
       "         0.375: 9,\n",
       "         25.125: 1,\n",
       "         7.5: 4,\n",
       "         5.0: 14,\n",
       "         7.0: 8,\n",
       "         5.29: 2,\n",
       "         1.165: 2,\n",
       "         9.75: 1,\n",
       "         19.0: 2,\n",
       "         3.5: 8,\n",
       "         0.625: 3,\n",
       "         2.21: 1,\n",
       "         12.75: 2,\n",
       "         15.5: 2,\n",
       "         1.375: 2,\n",
       "         3.54: 2,\n",
       "         11.0: 9,\n",
       "         1.75: 12,\n",
       "         16.5: 2,\n",
       "         12.0: 5,\n",
       "         2.25: 5,\n",
       "         0.75: 16,\n",
       "         12.5: 8,\n",
       "         1.25: 16,\n",
       "         1.125: 4,\n",
       "         7.04: 1,\n",
       "         10.335: 1,\n",
       "         6.21: 1,\n",
       "         6.665: 1,\n",
       "         9.0: 7,\n",
       "         5.5: 8,\n",
       "         0.54: 8,\n",
       "         2.75: 7,\n",
       "         9.5: 5,\n",
       "         13.5: 3,\n",
       "         3.75: 5,\n",
       "         16.0: 1,\n",
       "         0.29: 6,\n",
       "         1.665: 4,\n",
       "         7.54: 1,\n",
       "         0.46: 4,\n",
       "         10.0: 10,\n",
       "         11.5: 8,\n",
       "         3.04: 2,\n",
       "         2.0: 10,\n",
       "         0.08: 1,\n",
       "         1.71: 3,\n",
       "         3.25: 3,\n",
       "         2.54: 4,\n",
       "         13.585: 1,\n",
       "         8.665: 1,\n",
       "         9.25: 3,\n",
       "         8.17: 1,\n",
       "         2.335: 3,\n",
       "         19.5: 2,\n",
       "         5.665: 1,\n",
       "         4.625: 2,\n",
       "         0.205: 3,\n",
       "         0.96: 1,\n",
       "         4.04: 2,\n",
       "         5.04: 2,\n",
       "         3.165: 4,\n",
       "         7.625: 2,\n",
       "         10.04: 1,\n",
       "         10.25: 2,\n",
       "         2.125: 1,\n",
       "         9.335: 1,\n",
       "         6.625: 1,\n",
       "         2.71: 4,\n",
       "         9.625: 1,\n",
       "         12.54: 1,\n",
       "         9.54: 2,\n",
       "         8.46: 1,\n",
       "         13.75: 1,\n",
       "         21.0: 1,\n",
       "         10.125: 2,\n",
       "         25.085: 1,\n",
       "         0.21: 3,\n",
       "         21.5: 1,\n",
       "         11.125: 1,\n",
       "         11.045: 1,\n",
       "         1.335: 3,\n",
       "         0.085: 1,\n",
       "         1.21: 1,\n",
       "         0.165: 8,\n",
       "         5.71: 1,\n",
       "         5.415: 1,\n",
       "         12.625: 1,\n",
       "         0.58: 2,\n",
       "         0.415: 4,\n",
       "         2.415: 3,\n",
       "         0.335: 6,\n",
       "         3.125: 2,\n",
       "         12.125: 1,\n",
       "         2.875: 2,\n",
       "         13.665: 1,\n",
       "         26.335: 1,\n",
       "         10.29: 1,\n",
       "         1.29: 1,\n",
       "         22.0: 1,\n",
       "         0.125: 5,\n",
       "         1.085: 3,\n",
       "         4.085: 2,\n",
       "         4.71: 1,\n",
       "         6.165: 1,\n",
       "         4.585: 1,\n",
       "         11.46: 1,\n",
       "         14.585: 1,\n",
       "         0.17: 1,\n",
       "         1.625: 3,\n",
       "         2.085: 2,\n",
       "         5.085: 2,\n",
       "         8.125: 1,\n",
       "         2.835: 1,\n",
       "         1.79: 1,\n",
       "         0.705: 1,\n",
       "         2.165: 2,\n",
       "         2.29: 2,\n",
       "         18.125: 1,\n",
       "         3.085: 1,\n",
       "         11.665: 1,\n",
       "         4.125: 1,\n",
       "         1.08: 1,\n",
       "         13.335: 1,\n",
       "         11.835: 1,\n",
       "         4.79: 1,\n",
       "         9.96: 1,\n",
       "         7.08: 1,\n",
       "         25.21: 1,\n",
       "         0.67: 1,\n",
       "         3.79: 1,\n",
       "         22.29: 1,\n",
       "         3.335: 1,\n",
       "         0.42: 2,\n",
       "         1.46: 1,\n",
       "         0.04: 5,\n",
       "         12.33: 1,\n",
       "         12.335: 1,\n",
       "         0.915: 1,\n",
       "         14.0: 2,\n",
       "         17.75: 1,\n",
       "         20.0: 1,\n",
       "         5.25: 1,\n",
       "         4.165: 1,\n",
       "         10.915: 1,\n",
       "         4.75: 1,\n",
       "         10.415: 1,\n",
       "         7.835: 1,\n",
       "         0.71: 1,\n",
       "         2.46: 1,\n",
       "         9.585: 1,\n",
       "         3.625: 1,\n",
       "         2.665: 1,\n",
       "         5.835: 1,\n",
       "         12.835: 1,\n",
       "         10.665: 1,\n",
       "         7.25: 1,\n",
       "         10.21: 1,\n",
       "         3.29: 2,\n",
       "         10.085: 1,\n",
       "         3.375: 1,\n",
       "         'return_counts': 1})"
      ]
     },
     "execution_count": 20,
     "metadata": {},
     "output_type": "execute_result"
    }
   ],
   "source": [
    "Counter(HC.C3,return_counts=True)"
   ]
  },
  {
   "cell_type": "code",
   "execution_count": 21,
   "metadata": {},
   "outputs": [
    {
     "data": {
      "image/png": "[encoded data removed]",
      "text/plain": [
       "<Figure size 432x288 with 1 Axes>"
      ]
     },
     "metadata": {
      "needs_background": "light"
     },
     "output_type": "display_data"
    }
   ],
   "source": [
    "plt.hist(HC.C3,bins = 200)\n",
    "plt.show()"
   ]
  },
  {
   "cell_type": "code",
   "execution_count": 22,
   "metadata": {},
   "outputs": [
    {
     "data": {
      "text/plain": [
       "0"
      ]
     },
     "execution_count": 22,
     "metadata": {},
     "output_type": "execute_result"
    }
   ],
   "source": [
    "#neg values in v10\n",
    "HC.C3[HC.C3<0].count()"
   ]
  },
  {
   "cell_type": "code",
   "execution_count": 23,
   "metadata": {},
   "outputs": [
    {
     "data": {
      "text/plain": [
       "Counter({'u': 519, 'y': 163, '?': 6, 'l': 2, 'return_counts': 1})"
      ]
     },
     "execution_count": 23,
     "metadata": {},
     "output_type": "execute_result"
    }
   ],
   "source": [
    "#unique values using counter as data contains missing values\n",
    "Counter(HC.C4,return_counts=True)"
   ]
  },
  {
   "cell_type": "code",
   "execution_count": 24,
   "metadata": {},
   "outputs": [
    {
     "data": {
      "text/plain": [
       "count     690\n",
       "unique      4\n",
       "top         u\n",
       "freq      519\n",
       "Name: C4, dtype: object"
      ]
     },
     "execution_count": 24,
     "metadata": {},
     "output_type": "execute_result"
    }
   ],
   "source": [
    "HC.C4.describe()"
   ]
  },
  {
   "cell_type": "code",
   "execution_count": 25,
   "metadata": {},
   "outputs": [
    {
     "data": {
      "text/plain": [
       "Counter({'g': 519, 'p': 163, '?': 6, 'gg': 2, 'return_counts': 1})"
      ]
     },
     "execution_count": 25,
     "metadata": {},
     "output_type": "execute_result"
    }
   ],
   "source": [
    "#unique values using counter as data contains missing values\n",
    "Counter(HC.C5,return_counts=True)"
   ]
  },
  {
   "cell_type": "code",
   "execution_count": 26,
   "metadata": {},
   "outputs": [
    {
     "data": {
      "text/plain": [
       "count     690\n",
       "unique      4\n",
       "top         g\n",
       "freq      519\n",
       "Name: C5, dtype: object"
      ]
     },
     "execution_count": 26,
     "metadata": {},
     "output_type": "execute_result"
    }
   ],
   "source": [
    "HC.C5.describe()"
   ]
  },
  {
   "cell_type": "code",
   "execution_count": 27,
   "metadata": {},
   "outputs": [
    {
     "data": {
      "text/plain": [
       "Counter({'w': 64,\n",
       "         'q': 78,\n",
       "         'm': 38,\n",
       "         'r': 3,\n",
       "         'cc': 41,\n",
       "         'k': 51,\n",
       "         'c': 137,\n",
       "         'd': 30,\n",
       "         'x': 38,\n",
       "         'i': 59,\n",
       "         'e': 25,\n",
       "         'aa': 54,\n",
       "         'ff': 53,\n",
       "         'j': 10,\n",
       "         '?': 9,\n",
       "         'return_counts': 1})"
      ]
     },
     "execution_count": 27,
     "metadata": {},
     "output_type": "execute_result"
    }
   ],
   "source": [
    "#unique values using counter as data contains missing values\n",
    "Counter(HC.C6,return_counts=True)"
   ]
  },
  {
   "cell_type": "code",
   "execution_count": 28,
   "metadata": {},
   "outputs": [
    {
     "data": {
      "text/plain": [
       "count     690\n",
       "unique     15\n",
       "top         c\n",
       "freq      137\n",
       "Name: C6, dtype: object"
      ]
     },
     "execution_count": 28,
     "metadata": {},
     "output_type": "execute_result"
    }
   ],
   "source": [
    "HC.C6.describe()"
   ]
  },
  {
   "cell_type": "code",
   "execution_count": 29,
   "metadata": {},
   "outputs": [
    {
     "data": {
      "text/plain": [
       "Counter({'v': 399,\n",
       "         'h': 138,\n",
       "         'bb': 59,\n",
       "         'ff': 57,\n",
       "         'j': 8,\n",
       "         'z': 8,\n",
       "         '?': 9,\n",
       "         'o': 2,\n",
       "         'dd': 6,\n",
       "         'n': 4,\n",
       "         'return_counts': 1})"
      ]
     },
     "execution_count": 29,
     "metadata": {},
     "output_type": "execute_result"
    }
   ],
   "source": [
    "#unique values using counter as data contains missing values\n",
    "Counter(HC.C7,return_counts=True)"
   ]
  },
  {
   "cell_type": "code",
   "execution_count": 30,
   "metadata": {},
   "outputs": [
    {
     "data": {
      "text/plain": [
       "count     690\n",
       "unique     10\n",
       "top         v\n",
       "freq      399\n",
       "Name: C7, dtype: object"
      ]
     },
     "execution_count": 30,
     "metadata": {},
     "output_type": "execute_result"
    }
   ],
   "source": [
    "HC.C7.describe()"
   ]
  },
  {
   "cell_type": "code",
   "execution_count": 31,
   "metadata": {},
   "outputs": [
    {
     "data": {
      "text/plain": [
       "count    690.000000\n",
       "mean       2.223406\n",
       "std        3.346513\n",
       "min        0.000000\n",
       "25%        0.165000\n",
       "50%        1.000000\n",
       "75%        2.625000\n",
       "max       28.500000\n",
       "Name: C8, dtype: float64"
      ]
     },
     "execution_count": 31,
     "metadata": {},
     "output_type": "execute_result"
    }
   ],
   "source": [
    "HC.C8.describe()"
   ]
  },
  {
   "cell_type": "code",
   "execution_count": 32,
   "metadata": {},
   "outputs": [
    {
     "data": {
      "image/png": "[encoded data removed]",
      "text/plain": [
       "<Figure size 432x288 with 1 Axes>"
      ]
     },
     "metadata": {
      "needs_background": "light"
     },
     "output_type": "display_data"
    }
   ],
   "source": [
    "plt.hist(HC.C8,bins = 100)\n",
    "plt.show()"
   ]
  },
  {
   "cell_type": "code",
   "execution_count": 33,
   "metadata": {},
   "outputs": [
    {
     "data": {
      "text/plain": [
       "Counter({'t': 361, 'f': 329, 'return_counts': 1})"
      ]
     },
     "execution_count": 33,
     "metadata": {},
     "output_type": "execute_result"
    }
   ],
   "source": [
    "#unique values using counter as data contains missing values\n",
    "Counter(HC.C9,return_counts=True)"
   ]
  },
  {
   "cell_type": "code",
   "execution_count": 34,
   "metadata": {},
   "outputs": [
    {
     "data": {
      "text/plain": [
       "count     690\n",
       "unique      2\n",
       "top         t\n",
       "freq      361\n",
       "Name: C9, dtype: object"
      ]
     },
     "execution_count": 34,
     "metadata": {},
     "output_type": "execute_result"
    }
   ],
   "source": [
    "HC.C9.describe()"
   ]
  },
  {
   "cell_type": "code",
   "execution_count": 35,
   "metadata": {},
   "outputs": [
    {
     "data": {
      "text/plain": [
       "Counter({'t': 295, 'f': 395, 'return_counts': 1})"
      ]
     },
     "execution_count": 35,
     "metadata": {},
     "output_type": "execute_result"
    }
   ],
   "source": [
    "#unique values using counter as data contains missing values\n",
    "Counter(HC.C10,return_counts=True)"
   ]
  },
  {
   "cell_type": "code",
   "execution_count": 36,
   "metadata": {},
   "outputs": [
    {
     "data": {
      "text/plain": [
       "count     690\n",
       "unique      2\n",
       "top         f\n",
       "freq      395\n",
       "Name: C10, dtype: object"
      ]
     },
     "execution_count": 36,
     "metadata": {},
     "output_type": "execute_result"
    }
   ],
   "source": [
    "HC.C10.describe()"
   ]
  },
  {
   "cell_type": "code",
   "execution_count": 37,
   "metadata": {},
   "outputs": [
    {
     "data": {
      "text/plain": [
       "count    690.00000\n",
       "mean       2.40000\n",
       "std        4.86294\n",
       "min        0.00000\n",
       "25%        0.00000\n",
       "50%        0.00000\n",
       "75%        3.00000\n",
       "max       67.00000\n",
       "Name: C11, dtype: float64"
      ]
     },
     "execution_count": 37,
     "metadata": {},
     "output_type": "execute_result"
    }
   ],
   "source": [
    "HC.C11.describe()"
   ]
  },
  {
   "cell_type": "code",
   "execution_count": 38,
   "metadata": {},
   "outputs": [
    {
     "data": {
      "image/png": "[encoded data removed]",
      "text/plain": [
       "<Figure size 432x288 with 1 Axes>"
      ]
     },
     "metadata": {
      "needs_background": "light"
     },
     "output_type": "display_data"
    }
   ],
   "source": [
    "plt.hist(HC.C11,bins = 100)\n",
    "plt.show()"
   ]
  },
  {
   "cell_type": "code",
   "execution_count": 39,
   "metadata": {},
   "outputs": [
    {
     "data": {
      "text/plain": [
       "Counter({'f': 374, 't': 316, 'return_counts': 1})"
      ]
     },
     "execution_count": 39,
     "metadata": {},
     "output_type": "execute_result"
    }
   ],
   "source": [
    "#unique values using counter as data contains missing values\n",
    "Counter(HC.C12,return_counts=True)"
   ]
  },
  {
   "cell_type": "code",
   "execution_count": 40,
   "metadata": {},
   "outputs": [
    {
     "data": {
      "text/plain": [
       "count     690\n",
       "unique      2\n",
       "top         f\n",
       "freq      374\n",
       "Name: C12, dtype: object"
      ]
     },
     "execution_count": 40,
     "metadata": {},
     "output_type": "execute_result"
    }
   ],
   "source": [
    "HC.C12.describe()"
   ]
  },
  {
   "cell_type": "code",
   "execution_count": 41,
   "metadata": {},
   "outputs": [
    {
     "data": {
      "text/plain": [
       "Counter({'g': 625, 's': 57, 'p': 8, 'return_counts': 1})"
      ]
     },
     "execution_count": 41,
     "metadata": {},
     "output_type": "execute_result"
    }
   ],
   "source": [
    "#unique values using counter as data contains missing values\n",
    "Counter(HC.C13,return_counts=True)"
   ]
  },
  {
   "cell_type": "code",
   "execution_count": 42,
   "metadata": {},
   "outputs": [
    {
     "data": {
      "text/plain": [
       "count     690\n",
       "unique      3\n",
       "top         g\n",
       "freq      625\n",
       "Name: C13, dtype: object"
      ]
     },
     "execution_count": 42,
     "metadata": {},
     "output_type": "execute_result"
    }
   ],
   "source": [
    "HC.C13.describe()"
   ]
  },
  {
   "cell_type": "code",
   "execution_count": 43,
   "metadata": {},
   "outputs": [
    {
     "data": {
      "text/plain": [
       "Counter({'202': 1,\n",
       "         '43': 1,\n",
       "         '280': 22,\n",
       "         '100': 30,\n",
       "         '120': 35,\n",
       "         '360': 7,\n",
       "         '164': 3,\n",
       "         '80': 30,\n",
       "         '180': 18,\n",
       "         '52': 1,\n",
       "         '128': 3,\n",
       "         '260': 11,\n",
       "         '0': 132,\n",
       "         '320': 14,\n",
       "         '396': 2,\n",
       "         '96': 3,\n",
       "         '200': 35,\n",
       "         '300': 13,\n",
       "         '145': 2,\n",
       "         '500': 2,\n",
       "         '168': 2,\n",
       "         '434': 1,\n",
       "         '583': 1,\n",
       "         '30': 1,\n",
       "         '240': 14,\n",
       "         '70': 4,\n",
       "         '455': 1,\n",
       "         '311': 1,\n",
       "         '216': 3,\n",
       "         '491': 1,\n",
       "         '400': 9,\n",
       "         '239': 1,\n",
       "         '160': 34,\n",
       "         '711': 1,\n",
       "         '250': 1,\n",
       "         '520': 4,\n",
       "         '515': 1,\n",
       "         '420': 4,\n",
       "         '?': 13,\n",
       "         '980': 1,\n",
       "         '443': 1,\n",
       "         '140': 16,\n",
       "         '94': 1,\n",
       "         '368': 1,\n",
       "         '288': 1,\n",
       "         '928': 1,\n",
       "         '188': 1,\n",
       "         '112': 2,\n",
       "         '171': 1,\n",
       "         '268': 1,\n",
       "         '167': 1,\n",
       "         '75': 1,\n",
       "         '152': 1,\n",
       "         '176': 3,\n",
       "         '329': 1,\n",
       "         '212': 1,\n",
       "         '410': 1,\n",
       "         '274': 1,\n",
       "         '375': 1,\n",
       "         '408': 1,\n",
       "         '350': 2,\n",
       "         '204': 1,\n",
       "         '40': 4,\n",
       "         '181': 3,\n",
       "         '399': 2,\n",
       "         '440': 4,\n",
       "         '93': 1,\n",
       "         '60': 9,\n",
       "         '395': 1,\n",
       "         '393': 1,\n",
       "         '21': 1,\n",
       "         '29': 1,\n",
       "         '102': 1,\n",
       "         '431': 1,\n",
       "         '370': 2,\n",
       "         '24': 1,\n",
       "         '20': 2,\n",
       "         '129': 2,\n",
       "         '510': 1,\n",
       "         '195': 1,\n",
       "         '144': 4,\n",
       "         '380': 5,\n",
       "         '49': 1,\n",
       "         '50': 2,\n",
       "         '381': 1,\n",
       "         '150': 3,\n",
       "         '117': 1,\n",
       "         '56': 1,\n",
       "         '211': 1,\n",
       "         '230': 1,\n",
       "         '156': 1,\n",
       "         '22': 1,\n",
       "         '228': 2,\n",
       "         '519': 1,\n",
       "         '253': 1,\n",
       "         '487': 1,\n",
       "         '220': 9,\n",
       "         '88': 2,\n",
       "         '73': 2,\n",
       "         '121': 1,\n",
       "         '470': 1,\n",
       "         '136': 2,\n",
       "         '132': 4,\n",
       "         '292': 1,\n",
       "         '154': 2,\n",
       "         '272': 3,\n",
       "         '340': 7,\n",
       "         '108': 4,\n",
       "         '720': 2,\n",
       "         '450': 1,\n",
       "         '232': 4,\n",
       "         '170': 1,\n",
       "         '1160': 1,\n",
       "         '411': 1,\n",
       "         '460': 3,\n",
       "         '348': 1,\n",
       "         '480': 3,\n",
       "         '640': 1,\n",
       "         '372': 1,\n",
       "         '276': 1,\n",
       "         '221': 1,\n",
       "         '352': 2,\n",
       "         '141': 1,\n",
       "         '178': 1,\n",
       "         '600': 1,\n",
       "         '550': 1,\n",
       "         '2000': 1,\n",
       "         '225': 2,\n",
       "         '210': 2,\n",
       "         '110': 2,\n",
       "         '356': 1,\n",
       "         '45': 1,\n",
       "         '62': 1,\n",
       "         '92': 2,\n",
       "         '174': 1,\n",
       "         '17': 1,\n",
       "         '86': 1,\n",
       "         '454': 1,\n",
       "         '254': 1,\n",
       "         '28': 1,\n",
       "         '263': 1,\n",
       "         '333': 1,\n",
       "         '312': 2,\n",
       "         '290': 3,\n",
       "         '371': 1,\n",
       "         '99': 1,\n",
       "         '252': 2,\n",
       "         '760': 1,\n",
       "         '560': 2,\n",
       "         '130': 2,\n",
       "         '523': 1,\n",
       "         '680': 1,\n",
       "         '163': 1,\n",
       "         '208': 1,\n",
       "         '383': 1,\n",
       "         '330': 2,\n",
       "         '422': 1,\n",
       "         '840': 1,\n",
       "         '432': 1,\n",
       "         '32': 1,\n",
       "         '186': 1,\n",
       "         '303': 1,\n",
       "         '349': 1,\n",
       "         '224': 1,\n",
       "         '369': 1,\n",
       "         '76': 1,\n",
       "         '231': 1,\n",
       "         '309': 1,\n",
       "         '416': 1,\n",
       "         '465': 1,\n",
       "         '256': 1,\n",
       "         'return_counts': 1})"
      ]
     },
     "execution_count": 43,
     "metadata": {},
     "output_type": "execute_result"
    }
   ],
   "source": [
    "#unique values using counter as data contains missing values\n",
    "Counter(HC.C14,return_counts=True)"
   ]
  },
  {
   "cell_type": "code",
   "execution_count": 44,
   "metadata": {},
   "outputs": [
    {
     "data": {
      "text/plain": [
       "count     690\n",
       "unique    171\n",
       "top         0\n",
       "freq      132\n",
       "Name: C14, dtype: object"
      ]
     },
     "execution_count": 44,
     "metadata": {},
     "output_type": "execute_result"
    }
   ],
   "source": [
    "HC.C14.describe()"
   ]
  },
  {
   "cell_type": "code",
   "execution_count": 45,
   "metadata": {},
   "outputs": [
    {
     "data": {
      "image/png": "[encoded data removed]",
      "text/plain": [
       "<Figure size 432x288 with 1 Axes>"
      ]
     },
     "metadata": {
      "needs_background": "light"
     },
     "output_type": "display_data"
    }
   ],
   "source": [
    "plt.hist(HC.C14,bins = 10)\n",
    "plt.show()"
   ]
  },
  {
   "cell_type": "code",
   "execution_count": 46,
   "metadata": {},
   "outputs": [
    {
     "data": {
      "text/plain": [
       "count       690.000000\n",
       "mean       1017.385507\n",
       "std        5210.102598\n",
       "min           0.000000\n",
       "25%           0.000000\n",
       "50%           5.000000\n",
       "75%         395.500000\n",
       "max      100000.000000\n",
       "Name: C15, dtype: float64"
      ]
     },
     "execution_count": 46,
     "metadata": {},
     "output_type": "execute_result"
    }
   ],
   "source": [
    "HC.C15.describe()"
   ]
  },
  {
   "cell_type": "code",
   "execution_count": 47,
   "metadata": {},
   "outputs": [
    {
     "data": {
      "image/png": "[encoded data removed]",
      "text/plain": [
       "<Figure size 432x288 with 1 Axes>"
      ]
     },
     "metadata": {
      "needs_background": "light"
     },
     "output_type": "display_data"
    }
   ],
   "source": [
    "plt.hist(HC.C15,bins = 10)\n",
    "plt.show()"
   ]
  }
 ],
 "metadata": {
  "kernelspec": {
   "display_name": "Python 3",
   "language": "python",
   "name": "python3"
  },
  "language_info": {
   "codemirror_mode": {
    "name": "ipython",
    "version": 3
   },
   "file_extension": ".py",
   "mimetype": "text/x-python",
   "name": "python",
   "nbconvert_exporter": "python",
   "pygments_lexer": "ipython3",
   "version": "3.7.4"
  }
 },
 "nbformat": 4,
 "nbformat_minor": 2
}
